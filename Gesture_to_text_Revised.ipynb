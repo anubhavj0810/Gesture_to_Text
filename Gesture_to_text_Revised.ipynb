{
 "cells": [
  {
   "cell_type": "code",
   "execution_count": 3,
   "metadata": {},
   "outputs": [
    {
     "data": {
      "text/plain": [
       "'3.5.4 |Anaconda, Inc.| (default, Nov  9 2017, 00:39:12) \\n[GCC 7.2.0]'"
      ]
     },
     "execution_count": 3,
     "metadata": {},
     "output_type": "execute_result"
    }
   ],
   "source": [
    "import sys\n",
    "sys.version"
   ]
  },
  {
   "cell_type": "code",
   "execution_count": 4,
   "metadata": {},
   "outputs": [
    {
     "name": "stderr",
     "output_type": "stream",
     "text": [
      "Using TensorFlow backend.\n"
     ]
    }
   ],
   "source": [
    "import numpy as np\n",
    "import pandas as pd\n",
    "import matplotlib.pyplot as plt\n",
    "import time\n",
    "#import cv2\n",
    "\n",
    "from keras.models import Sequential\n",
    "from keras.layers import Dense\n",
    "from keras.layers import LeakyReLU\n",
    "from keras.layers import Dropout,GaussianDropout\n",
    "from keras.layers import GaussianNoise\n",
    "from keras.layers import Activation\n",
    "from keras.layers import BatchNormalization\n",
    "from keras.utils import to_categorical\n",
    "from keras.models import load_model\n",
    "from keras.constraints import max_norm\n",
    "from keras.callbacks import TensorBoard\n",
    "from keras.preprocessing.image import ImageDataGenerator\n",
    "#from keras.wrappers.scikit_learn import KerasClassifier\n",
    "\n",
    "from sklearn.preprocessing import StandardScaler\n",
    "%matplotlib inline"
   ]
  },
  {
   "cell_type": "code",
   "execution_count": 5,
   "metadata": {},
   "outputs": [],
   "source": [
    "from keras.layers.convolutional import Conv2D\n",
    "from keras.layers.convolutional import MaxPooling2D\n",
    "from keras.layers import Flatten"
   ]
  },
  {
   "cell_type": "code",
   "execution_count": 6,
   "metadata": {},
   "outputs": [
    {
     "name": "stdout",
     "output_type": "stream",
     "text": [
      "1.3.0 2.0.5\n"
     ]
    }
   ],
   "source": [
    "import tensorflow,keras\n",
    "print(tensorflow.__version__, keras.__version__)"
   ]
  },
  {
   "cell_type": "code",
   "execution_count": 7,
   "metadata": {},
   "outputs": [
    {
     "data": {
      "text/html": [
       "<div>\n",
       "<style scoped>\n",
       "    .dataframe tbody tr th:only-of-type {\n",
       "        vertical-align: middle;\n",
       "    }\n",
       "\n",
       "    .dataframe tbody tr th {\n",
       "        vertical-align: top;\n",
       "    }\n",
       "\n",
       "    .dataframe thead th {\n",
       "        text-align: right;\n",
       "    }\n",
       "</style>\n",
       "<table border=\"1\" class=\"dataframe\">\n",
       "  <thead>\n",
       "    <tr style=\"text-align: right;\">\n",
       "      <th></th>\n",
       "      <th>label</th>\n",
       "      <th>pixel1</th>\n",
       "      <th>pixel2</th>\n",
       "      <th>pixel3</th>\n",
       "      <th>pixel4</th>\n",
       "      <th>pixel5</th>\n",
       "      <th>pixel6</th>\n",
       "      <th>pixel7</th>\n",
       "      <th>pixel8</th>\n",
       "      <th>pixel9</th>\n",
       "      <th>...</th>\n",
       "      <th>pixel775</th>\n",
       "      <th>pixel776</th>\n",
       "      <th>pixel777</th>\n",
       "      <th>pixel778</th>\n",
       "      <th>pixel779</th>\n",
       "      <th>pixel780</th>\n",
       "      <th>pixel781</th>\n",
       "      <th>pixel782</th>\n",
       "      <th>pixel783</th>\n",
       "      <th>pixel784</th>\n",
       "    </tr>\n",
       "  </thead>\n",
       "  <tbody>\n",
       "    <tr>\n",
       "      <th>0</th>\n",
       "      <td>3</td>\n",
       "      <td>107</td>\n",
       "      <td>118</td>\n",
       "      <td>127</td>\n",
       "      <td>134</td>\n",
       "      <td>139</td>\n",
       "      <td>143</td>\n",
       "      <td>146</td>\n",
       "      <td>150</td>\n",
       "      <td>153</td>\n",
       "      <td>...</td>\n",
       "      <td>207</td>\n",
       "      <td>207</td>\n",
       "      <td>207</td>\n",
       "      <td>207</td>\n",
       "      <td>206</td>\n",
       "      <td>206</td>\n",
       "      <td>206</td>\n",
       "      <td>204</td>\n",
       "      <td>203</td>\n",
       "      <td>202</td>\n",
       "    </tr>\n",
       "    <tr>\n",
       "      <th>1</th>\n",
       "      <td>6</td>\n",
       "      <td>155</td>\n",
       "      <td>157</td>\n",
       "      <td>156</td>\n",
       "      <td>156</td>\n",
       "      <td>156</td>\n",
       "      <td>157</td>\n",
       "      <td>156</td>\n",
       "      <td>158</td>\n",
       "      <td>158</td>\n",
       "      <td>...</td>\n",
       "      <td>69</td>\n",
       "      <td>149</td>\n",
       "      <td>128</td>\n",
       "      <td>87</td>\n",
       "      <td>94</td>\n",
       "      <td>163</td>\n",
       "      <td>175</td>\n",
       "      <td>103</td>\n",
       "      <td>135</td>\n",
       "      <td>149</td>\n",
       "    </tr>\n",
       "    <tr>\n",
       "      <th>2</th>\n",
       "      <td>2</td>\n",
       "      <td>187</td>\n",
       "      <td>188</td>\n",
       "      <td>188</td>\n",
       "      <td>187</td>\n",
       "      <td>187</td>\n",
       "      <td>186</td>\n",
       "      <td>187</td>\n",
       "      <td>188</td>\n",
       "      <td>187</td>\n",
       "      <td>...</td>\n",
       "      <td>202</td>\n",
       "      <td>201</td>\n",
       "      <td>200</td>\n",
       "      <td>199</td>\n",
       "      <td>198</td>\n",
       "      <td>199</td>\n",
       "      <td>198</td>\n",
       "      <td>195</td>\n",
       "      <td>194</td>\n",
       "      <td>195</td>\n",
       "    </tr>\n",
       "    <tr>\n",
       "      <th>3</th>\n",
       "      <td>2</td>\n",
       "      <td>211</td>\n",
       "      <td>211</td>\n",
       "      <td>212</td>\n",
       "      <td>212</td>\n",
       "      <td>211</td>\n",
       "      <td>210</td>\n",
       "      <td>211</td>\n",
       "      <td>210</td>\n",
       "      <td>210</td>\n",
       "      <td>...</td>\n",
       "      <td>235</td>\n",
       "      <td>234</td>\n",
       "      <td>233</td>\n",
       "      <td>231</td>\n",
       "      <td>230</td>\n",
       "      <td>226</td>\n",
       "      <td>225</td>\n",
       "      <td>222</td>\n",
       "      <td>229</td>\n",
       "      <td>163</td>\n",
       "    </tr>\n",
       "    <tr>\n",
       "      <th>4</th>\n",
       "      <td>13</td>\n",
       "      <td>164</td>\n",
       "      <td>167</td>\n",
       "      <td>170</td>\n",
       "      <td>172</td>\n",
       "      <td>176</td>\n",
       "      <td>179</td>\n",
       "      <td>180</td>\n",
       "      <td>184</td>\n",
       "      <td>185</td>\n",
       "      <td>...</td>\n",
       "      <td>92</td>\n",
       "      <td>105</td>\n",
       "      <td>105</td>\n",
       "      <td>108</td>\n",
       "      <td>133</td>\n",
       "      <td>163</td>\n",
       "      <td>157</td>\n",
       "      <td>163</td>\n",
       "      <td>164</td>\n",
       "      <td>179</td>\n",
       "    </tr>\n",
       "  </tbody>\n",
       "</table>\n",
       "<p>5 rows × 785 columns</p>\n",
       "</div>"
      ],
      "text/plain": [
       "   label  pixel1  pixel2  pixel3  pixel4  pixel5  pixel6  pixel7  pixel8  \\\n",
       "0      3     107     118     127     134     139     143     146     150   \n",
       "1      6     155     157     156     156     156     157     156     158   \n",
       "2      2     187     188     188     187     187     186     187     188   \n",
       "3      2     211     211     212     212     211     210     211     210   \n",
       "4     13     164     167     170     172     176     179     180     184   \n",
       "\n",
       "   pixel9    ...     pixel775  pixel776  pixel777  pixel778  pixel779  \\\n",
       "0     153    ...          207       207       207       207       206   \n",
       "1     158    ...           69       149       128        87        94   \n",
       "2     187    ...          202       201       200       199       198   \n",
       "3     210    ...          235       234       233       231       230   \n",
       "4     185    ...           92       105       105       108       133   \n",
       "\n",
       "   pixel780  pixel781  pixel782  pixel783  pixel784  \n",
       "0       206       206       204       203       202  \n",
       "1       163       175       103       135       149  \n",
       "2       199       198       195       194       195  \n",
       "3       226       225       222       229       163  \n",
       "4       163       157       163       164       179  \n",
       "\n",
       "[5 rows x 785 columns]"
      ]
     },
     "execution_count": 7,
     "metadata": {},
     "output_type": "execute_result"
    }
   ],
   "source": [
    "import types\n",
    "import pandas as pd\n",
    "from ibm_botocore.client import Config\n",
    "import ibm_boto3\n",
    "\n",
    "def __iter__(self): return 0\n",
    "\n",
    "# @hidden_cell\n",
    "# The following code accesses a file in your IBM Cloud Object Storage. It includes your credentials.\n",
    "# You might want to remove those credentials before you share your notebook.\n",
    "client_439f896e860a45e8ab03c3254fac296b = ibm_boto3.client(service_name='s3',\n",
    "    ibm_api_key_id='o4GnO1ev42cUPCz_5NFqcQ4SZySpmfFNpc_7NtE0OKGz',\n",
    "    ibm_auth_endpoint=\"https://iam.bluemix.net/oidc/token\",\n",
    "    config=Config(signature_version='oauth'),\n",
    "    endpoint_url='https://s3.eu-geo.objectstorage.service.networklayer.com')\n",
    "\n",
    "body = client_439f896e860a45e8ab03c3254fac296b.get_object(Bucket='courseraproject-donotdelete-pr-b3bunbszncvhtk',Key='sign_mnist_train.csv')['Body']\n",
    "# add missing __iter__ method, so pandas accepts body as file-like object\n",
    "if not hasattr(body, \"__iter__\"): body.__iter__ = types.MethodType( __iter__, body )\n",
    "\n",
    "df = pd.read_csv(body)\n",
    "df.head()\n",
    "\n"
   ]
  },
  {
   "cell_type": "code",
   "execution_count": 8,
   "metadata": {},
   "outputs": [
    {
     "data": {
      "text/html": [
       "<div>\n",
       "<style scoped>\n",
       "    .dataframe tbody tr th:only-of-type {\n",
       "        vertical-align: middle;\n",
       "    }\n",
       "\n",
       "    .dataframe tbody tr th {\n",
       "        vertical-align: top;\n",
       "    }\n",
       "\n",
       "    .dataframe thead th {\n",
       "        text-align: right;\n",
       "    }\n",
       "</style>\n",
       "<table border=\"1\" class=\"dataframe\">\n",
       "  <thead>\n",
       "    <tr style=\"text-align: right;\">\n",
       "      <th></th>\n",
       "      <th>label</th>\n",
       "      <th>pixel1</th>\n",
       "      <th>pixel2</th>\n",
       "      <th>pixel3</th>\n",
       "      <th>pixel4</th>\n",
       "      <th>pixel5</th>\n",
       "      <th>pixel6</th>\n",
       "      <th>pixel7</th>\n",
       "      <th>pixel8</th>\n",
       "      <th>pixel9</th>\n",
       "      <th>...</th>\n",
       "      <th>pixel775</th>\n",
       "      <th>pixel776</th>\n",
       "      <th>pixel777</th>\n",
       "      <th>pixel778</th>\n",
       "      <th>pixel779</th>\n",
       "      <th>pixel780</th>\n",
       "      <th>pixel781</th>\n",
       "      <th>pixel782</th>\n",
       "      <th>pixel783</th>\n",
       "      <th>pixel784</th>\n",
       "    </tr>\n",
       "  </thead>\n",
       "  <tbody>\n",
       "    <tr>\n",
       "      <th>0</th>\n",
       "      <td>6</td>\n",
       "      <td>149</td>\n",
       "      <td>149</td>\n",
       "      <td>150</td>\n",
       "      <td>150</td>\n",
       "      <td>150</td>\n",
       "      <td>151</td>\n",
       "      <td>151</td>\n",
       "      <td>150</td>\n",
       "      <td>151</td>\n",
       "      <td>...</td>\n",
       "      <td>138</td>\n",
       "      <td>148</td>\n",
       "      <td>127</td>\n",
       "      <td>89</td>\n",
       "      <td>82</td>\n",
       "      <td>96</td>\n",
       "      <td>106</td>\n",
       "      <td>112</td>\n",
       "      <td>120</td>\n",
       "      <td>107</td>\n",
       "    </tr>\n",
       "    <tr>\n",
       "      <th>1</th>\n",
       "      <td>5</td>\n",
       "      <td>126</td>\n",
       "      <td>128</td>\n",
       "      <td>131</td>\n",
       "      <td>132</td>\n",
       "      <td>133</td>\n",
       "      <td>134</td>\n",
       "      <td>135</td>\n",
       "      <td>135</td>\n",
       "      <td>136</td>\n",
       "      <td>...</td>\n",
       "      <td>47</td>\n",
       "      <td>104</td>\n",
       "      <td>194</td>\n",
       "      <td>183</td>\n",
       "      <td>186</td>\n",
       "      <td>184</td>\n",
       "      <td>184</td>\n",
       "      <td>184</td>\n",
       "      <td>182</td>\n",
       "      <td>180</td>\n",
       "    </tr>\n",
       "    <tr>\n",
       "      <th>2</th>\n",
       "      <td>10</td>\n",
       "      <td>85</td>\n",
       "      <td>88</td>\n",
       "      <td>92</td>\n",
       "      <td>96</td>\n",
       "      <td>105</td>\n",
       "      <td>123</td>\n",
       "      <td>135</td>\n",
       "      <td>143</td>\n",
       "      <td>147</td>\n",
       "      <td>...</td>\n",
       "      <td>68</td>\n",
       "      <td>166</td>\n",
       "      <td>242</td>\n",
       "      <td>227</td>\n",
       "      <td>230</td>\n",
       "      <td>227</td>\n",
       "      <td>226</td>\n",
       "      <td>225</td>\n",
       "      <td>224</td>\n",
       "      <td>222</td>\n",
       "    </tr>\n",
       "    <tr>\n",
       "      <th>3</th>\n",
       "      <td>0</td>\n",
       "      <td>203</td>\n",
       "      <td>205</td>\n",
       "      <td>207</td>\n",
       "      <td>206</td>\n",
       "      <td>207</td>\n",
       "      <td>209</td>\n",
       "      <td>210</td>\n",
       "      <td>209</td>\n",
       "      <td>210</td>\n",
       "      <td>...</td>\n",
       "      <td>154</td>\n",
       "      <td>248</td>\n",
       "      <td>247</td>\n",
       "      <td>248</td>\n",
       "      <td>253</td>\n",
       "      <td>236</td>\n",
       "      <td>230</td>\n",
       "      <td>240</td>\n",
       "      <td>253</td>\n",
       "      <td>255</td>\n",
       "    </tr>\n",
       "    <tr>\n",
       "      <th>4</th>\n",
       "      <td>3</td>\n",
       "      <td>188</td>\n",
       "      <td>191</td>\n",
       "      <td>193</td>\n",
       "      <td>195</td>\n",
       "      <td>199</td>\n",
       "      <td>201</td>\n",
       "      <td>202</td>\n",
       "      <td>203</td>\n",
       "      <td>203</td>\n",
       "      <td>...</td>\n",
       "      <td>26</td>\n",
       "      <td>40</td>\n",
       "      <td>64</td>\n",
       "      <td>48</td>\n",
       "      <td>29</td>\n",
       "      <td>46</td>\n",
       "      <td>49</td>\n",
       "      <td>46</td>\n",
       "      <td>46</td>\n",
       "      <td>53</td>\n",
       "    </tr>\n",
       "  </tbody>\n",
       "</table>\n",
       "<p>5 rows × 785 columns</p>\n",
       "</div>"
      ],
      "text/plain": [
       "   label  pixel1  pixel2  pixel3  pixel4  pixel5  pixel6  pixel7  pixel8  \\\n",
       "0      6     149     149     150     150     150     151     151     150   \n",
       "1      5     126     128     131     132     133     134     135     135   \n",
       "2     10      85      88      92      96     105     123     135     143   \n",
       "3      0     203     205     207     206     207     209     210     209   \n",
       "4      3     188     191     193     195     199     201     202     203   \n",
       "\n",
       "   pixel9    ...     pixel775  pixel776  pixel777  pixel778  pixel779  \\\n",
       "0     151    ...          138       148       127        89        82   \n",
       "1     136    ...           47       104       194       183       186   \n",
       "2     147    ...           68       166       242       227       230   \n",
       "3     210    ...          154       248       247       248       253   \n",
       "4     203    ...           26        40        64        48        29   \n",
       "\n",
       "   pixel780  pixel781  pixel782  pixel783  pixel784  \n",
       "0        96       106       112       120       107  \n",
       "1       184       184       184       182       180  \n",
       "2       227       226       225       224       222  \n",
       "3       236       230       240       253       255  \n",
       "4        46        49        46        46        53  \n",
       "\n",
       "[5 rows x 785 columns]"
      ]
     },
     "execution_count": 8,
     "metadata": {},
     "output_type": "execute_result"
    }
   ],
   "source": [
    "body = client_439f896e860a45e8ab03c3254fac296b.get_object(Bucket='courseraproject-donotdelete-pr-b3bunbszncvhtk',Key='sign_mnist_test.csv')['Body']\n",
    "# add missing __iter__ method, so pandas accepts body as file-like object\n",
    "if not hasattr(body, \"__iter__\"): body.__iter__ = types.MethodType( __iter__, body )\n",
    "\n",
    "d_test = pd.read_csv(body)\n",
    "d_test.head()\n",
    "\n"
   ]
  },
  {
   "cell_type": "code",
   "execution_count": null,
   "metadata": {},
   "outputs": [],
   "source": [
    "df=pd.read_csv('/Users/anubhavjain/Desktop/sign-language-mnist/sign_mnist_train.csv')\n",
    "d_test=pd.read_csv('/Users/anubhavjain/Desktop/sign-language-mnist/sign_mnist_test.csv')"
   ]
  },
  {
   "cell_type": "code",
   "execution_count": 9,
   "metadata": {},
   "outputs": [
    {
     "data": {
      "text/html": [
       "<div>\n",
       "<style scoped>\n",
       "    .dataframe tbody tr th:only-of-type {\n",
       "        vertical-align: middle;\n",
       "    }\n",
       "\n",
       "    .dataframe tbody tr th {\n",
       "        vertical-align: top;\n",
       "    }\n",
       "\n",
       "    .dataframe thead th {\n",
       "        text-align: right;\n",
       "    }\n",
       "</style>\n",
       "<table border=\"1\" class=\"dataframe\">\n",
       "  <thead>\n",
       "    <tr style=\"text-align: right;\">\n",
       "      <th></th>\n",
       "      <th>label</th>\n",
       "      <th>pixel1</th>\n",
       "      <th>pixel2</th>\n",
       "      <th>pixel3</th>\n",
       "      <th>pixel4</th>\n",
       "      <th>pixel5</th>\n",
       "      <th>pixel6</th>\n",
       "      <th>pixel7</th>\n",
       "      <th>pixel8</th>\n",
       "      <th>pixel9</th>\n",
       "      <th>...</th>\n",
       "      <th>pixel775</th>\n",
       "      <th>pixel776</th>\n",
       "      <th>pixel777</th>\n",
       "      <th>pixel778</th>\n",
       "      <th>pixel779</th>\n",
       "      <th>pixel780</th>\n",
       "      <th>pixel781</th>\n",
       "      <th>pixel782</th>\n",
       "      <th>pixel783</th>\n",
       "      <th>pixel784</th>\n",
       "    </tr>\n",
       "  </thead>\n",
       "  <tbody>\n",
       "    <tr>\n",
       "      <th>0</th>\n",
       "      <td>3</td>\n",
       "      <td>107</td>\n",
       "      <td>118</td>\n",
       "      <td>127</td>\n",
       "      <td>134</td>\n",
       "      <td>139</td>\n",
       "      <td>143</td>\n",
       "      <td>146</td>\n",
       "      <td>150</td>\n",
       "      <td>153</td>\n",
       "      <td>...</td>\n",
       "      <td>207</td>\n",
       "      <td>207</td>\n",
       "      <td>207</td>\n",
       "      <td>207</td>\n",
       "      <td>206</td>\n",
       "      <td>206</td>\n",
       "      <td>206</td>\n",
       "      <td>204</td>\n",
       "      <td>203</td>\n",
       "      <td>202</td>\n",
       "    </tr>\n",
       "    <tr>\n",
       "      <th>1</th>\n",
       "      <td>6</td>\n",
       "      <td>155</td>\n",
       "      <td>157</td>\n",
       "      <td>156</td>\n",
       "      <td>156</td>\n",
       "      <td>156</td>\n",
       "      <td>157</td>\n",
       "      <td>156</td>\n",
       "      <td>158</td>\n",
       "      <td>158</td>\n",
       "      <td>...</td>\n",
       "      <td>69</td>\n",
       "      <td>149</td>\n",
       "      <td>128</td>\n",
       "      <td>87</td>\n",
       "      <td>94</td>\n",
       "      <td>163</td>\n",
       "      <td>175</td>\n",
       "      <td>103</td>\n",
       "      <td>135</td>\n",
       "      <td>149</td>\n",
       "    </tr>\n",
       "    <tr>\n",
       "      <th>2</th>\n",
       "      <td>2</td>\n",
       "      <td>187</td>\n",
       "      <td>188</td>\n",
       "      <td>188</td>\n",
       "      <td>187</td>\n",
       "      <td>187</td>\n",
       "      <td>186</td>\n",
       "      <td>187</td>\n",
       "      <td>188</td>\n",
       "      <td>187</td>\n",
       "      <td>...</td>\n",
       "      <td>202</td>\n",
       "      <td>201</td>\n",
       "      <td>200</td>\n",
       "      <td>199</td>\n",
       "      <td>198</td>\n",
       "      <td>199</td>\n",
       "      <td>198</td>\n",
       "      <td>195</td>\n",
       "      <td>194</td>\n",
       "      <td>195</td>\n",
       "    </tr>\n",
       "  </tbody>\n",
       "</table>\n",
       "<p>3 rows × 785 columns</p>\n",
       "</div>"
      ],
      "text/plain": [
       "   label  pixel1  pixel2  pixel3  pixel4  pixel5  pixel6  pixel7  pixel8  \\\n",
       "0      3     107     118     127     134     139     143     146     150   \n",
       "1      6     155     157     156     156     156     157     156     158   \n",
       "2      2     187     188     188     187     187     186     187     188   \n",
       "\n",
       "   pixel9    ...     pixel775  pixel776  pixel777  pixel778  pixel779  \\\n",
       "0     153    ...          207       207       207       207       206   \n",
       "1     158    ...           69       149       128        87        94   \n",
       "2     187    ...          202       201       200       199       198   \n",
       "\n",
       "   pixel780  pixel781  pixel782  pixel783  pixel784  \n",
       "0       206       206       204       203       202  \n",
       "1       163       175       103       135       149  \n",
       "2       199       198       195       194       195  \n",
       "\n",
       "[3 rows x 785 columns]"
      ]
     },
     "execution_count": 9,
     "metadata": {},
     "output_type": "execute_result"
    }
   ],
   "source": [
    "df.loc[0:2,:]"
   ]
  },
  {
   "cell_type": "code",
   "execution_count": 10,
   "metadata": {},
   "outputs": [],
   "source": [
    "t=np.array(df.loc[0,:])"
   ]
  },
  {
   "cell_type": "code",
   "execution_count": 11,
   "metadata": {},
   "outputs": [],
   "source": [
    "x_train=np.array(df[df.columns[df.columns!='label']])\n",
    "x_label=np.array(df['label'])"
   ]
  },
  {
   "cell_type": "code",
   "execution_count": 12,
   "metadata": {},
   "outputs": [],
   "source": [
    "y_test=np.array(d_test[d_test.columns[d_test.columns!='label']])\n",
    "y_label=np.array(d_test['label'])"
   ]
  },
  {
   "cell_type": "code",
   "execution_count": 13,
   "metadata": {},
   "outputs": [],
   "source": [
    "x_label=to_categorical(x_label)\n",
    "y_label=to_categorical(y_label)"
   ]
  },
  {
   "cell_type": "code",
   "execution_count": 14,
   "metadata": {},
   "outputs": [],
   "source": [
    "#x_train.shape\n",
    "#np.unique(y_label)\n",
    "no_classes=y_label.shape[1]"
   ]
  },
  {
   "cell_type": "code",
   "execution_count": 15,
   "metadata": {},
   "outputs": [
    {
     "data": {
      "text/plain": [
       "(7172, 25)"
      ]
     },
     "execution_count": 15,
     "metadata": {},
     "output_type": "execute_result"
    }
   ],
   "source": [
    "#x_train.shape\n",
    "y_label.shape"
   ]
  },
  {
   "cell_type": "code",
   "execution_count": 16,
   "metadata": {},
   "outputs": [],
   "source": [
    "datagen = ImageDataGenerator(rotation_range=20,width_shift_range=0.3,height_shift_range=0.15)"
   ]
  },
  {
   "cell_type": "code",
   "execution_count": 17,
   "metadata": {},
   "outputs": [],
   "source": [
    "x_train=x_train.reshape(x_train.shape[0],28,28,1)\n",
    "y_test=y_test.reshape(y_test.shape[0],28,28,1)"
   ]
  },
  {
   "cell_type": "code",
   "execution_count": 18,
   "metadata": {},
   "outputs": [],
   "source": [
    "x_train = x_train.astype('float32')\n",
    "y_test = y_test.astype('float32')"
   ]
  },
  {
   "cell_type": "code",
   "execution_count": 19,
   "metadata": {},
   "outputs": [],
   "source": [
    "x_train=x_train/255\n",
    "y_test=y_test/255"
   ]
  },
  {
   "cell_type": "code",
   "execution_count": null,
   "metadata": {},
   "outputs": [],
   "source": [
    "print(x_train[0])"
   ]
  },
  {
   "cell_type": "code",
   "execution_count": 20,
   "metadata": {},
   "outputs": [
    {
     "name": "stderr",
     "output_type": "stream",
     "text": [
      "/usr/local/src/conda3_runtime/home/envs/DSX-Python35-Spark/lib/python3.5/site-packages/keras/preprocessing/image.py:648: UserWarning: Expected input to be images (as Numpy array) following the data format convention \"channels_last\" (channels on axis 3), i.e. expected either 1, 3 or 4 channels on axis 3. However, it was passed an array with shape (27455, 28, 28, 1) (1 channels).\n",
      "  ' (' + str(x.shape[self.channel_axis]) + ' channels).')\n"
     ]
    }
   ],
   "source": [
    "datagen.fit(x_train)"
   ]
  },
  {
   "cell_type": "code",
   "execution_count": null,
   "metadata": {},
   "outputs": [],
   "source": [
    "#scalar = StandardScaler()"
   ]
  },
  {
   "cell_type": "code",
   "execution_count": null,
   "metadata": {},
   "outputs": [],
   "source": [
    "#scalar.fit(x_train)"
   ]
  },
  {
   "cell_type": "code",
   "execution_count": null,
   "metadata": {},
   "outputs": [],
   "source": [
    "#x_train = scalar.transform(x_train)\n",
    "#y_test = scalar.transform(y_test)"
   ]
  },
  {
   "cell_type": "code",
   "execution_count": null,
   "metadata": {
    "scrolled": true
   },
   "outputs": [],
   "source": [
    "#x_train=x_train.reshape(x_train.shape[0],28,28,1)\n",
    "#y_test=y_test.reshape(y_test.shape[0],28,28,1)"
   ]
  },
  {
   "cell_type": "code",
   "execution_count": 21,
   "metadata": {},
   "outputs": [],
   "source": [
    "\n",
    "# @hidden_cell\n",
    "# The following code contains the credentials for a file in your IBM Cloud Object Storage.\n",
    "# You might want to remove those credentials before you share your notebook.\n",
    "credentials_1 = {\n",
    "    'IBM_API_KEY_ID': 'o4GnO1ev42cUPCz_5NFqcQ4SZySpmfFNpc_7NtE0OKGz',\n",
    "    'IAM_SERVICE_ID': 'iam-ServiceId-446d7179-2f7f-4806-9a88-16e8d4a939fc',\n",
    "    'ENDPOINT': 'https://s3.eu-geo.objectstorage.service.networklayer.com',\n",
    "    'IBM_AUTH_ENDPOINT': 'https://iam.bluemix.net/oidc/token',\n",
    "    'BUCKET': 'courseraproject-donotdelete-pr-b3bunbszncvhtk',\n",
    "    'FILE': 'gesture_to_text.h5'\n",
    "}"
   ]
  },
  {
   "cell_type": "code",
   "execution_count": 29,
   "metadata": {},
   "outputs": [],
   "source": [
    "model=Sequential()"
   ]
  },
  {
   "cell_type": "code",
   "execution_count": null,
   "metadata": {},
   "outputs": [],
   "source": [
    "model=load_model('gesture_to_text.h5')"
   ]
  },
  {
   "cell_type": "code",
   "execution_count": 30,
   "metadata": {},
   "outputs": [],
   "source": [
    "model.add(GaussianNoise(0.2,input_shape=(28,28,1)))\n",
    "model.add(Conv2D(64,(5,5),strides=(1,1),activation='linear',input_shape=(28,28,1)))\n",
    "#model.add(Activation('relu'))###\n",
    "model.add(BatchNormalization())\n",
    "model.add(LeakyReLU(alpha=0.2))###\n",
    "model.add(MaxPooling2D((2,2),strides=(2,2)))\n",
    "\n",
    "model.add(Conv2D(128,(2,2),strides=(1,1),activation='linear'))\n",
    "#model.add(Activation('relu'))###\n",
    "model.add(BatchNormalization())\n",
    "model.add(LeakyReLU(alpha=0.2))###\n",
    "model.add(MaxPooling2D((2,2),strides=(2,2)))\n",
    "\n",
    "model.add(Conv2D(256,(2,2),strides=(1,1),activation='linear'))\n",
    "#model.add(Activation('relu'))###\n",
    "model.add(BatchNormalization())\n",
    "model.add(LeakyReLU(alpha=0.2))###\n",
    "model.add(MaxPooling2D((2,2),strides=(1,1)))\n",
    "\n",
    "model.add(Conv2D(512,(2,2),strides=(1,1),activation='linear'))\n",
    "#model.add(Activation('relu'))###\n",
    "model.add(BatchNormalization())\n",
    "model.add(LeakyReLU(alpha=0.2))###\n",
    "model.add(MaxPooling2D((2,2),strides=(2,2)))\n",
    "\n",
    "model.add(Flatten())\n",
    "\n",
    "#,kernel_initializer='normal',kernel_constraint=max_norm(3))\n",
    "#model.add(Dropout(0.1))\n",
    "model.add(Dense(300,activation='linear'))\n",
    "model.add(BatchNormalization())\n",
    "#model.add(Activation('relu'))###\n",
    "model.add(LeakyReLU(alpha=0.2))###\n",
    "#model.add(GaussianDropout(0.2))\n",
    "model.add(Dense(300,activation='linear'))\n",
    "model.add(BatchNormalization())\n",
    "#model.add(Activation('relu'))###\n",
    "model.add(LeakyReLU(alpha=0.2))###\n",
    "model.add(Dense(300,activation='linear'))\n",
    "#model.add(BatchNormalization())\n",
    "#model.add(Activation('relu'))###\n",
    "model.add(LeakyReLU(alpha=0.2))###\n",
    "model.add(Dense(300,activation='linear'))\n",
    "#model.add(BatchNormalization())\n",
    "#model.add(Activation('relu'))###\n",
    "model.add(LeakyReLU(alpha=0.2))###\n",
    "#model.add(GaussianDropout(0.2))\n",
    "model.add(Dense(300,activation='linear'))\n",
    "#model.add(BatchNormalization())\n",
    "#model.add(Activation('relu'))###\n",
    "model.add(LeakyReLU(alpha=0.2))###\n",
    "model.add(Dense(300,activation='linear'))\n",
    "model.add(BatchNormalization())\n",
    "#model.add(Activation('relu'))###\n",
    "model.add(LeakyReLU(alpha=0.2))###\n",
    "#model.add(Dropout(0.1))\n",
    "model.add(BatchNormalization())\n",
    "model.add(Dense(no_classes,activation='softmax'))"
   ]
  },
  {
   "cell_type": "code",
   "execution_count": 31,
   "metadata": {},
   "outputs": [],
   "source": [
    "model.compile(optimizer='adam',loss='categorical_crossentropy',metrics=['accuracy'])"
   ]
  },
  {
   "cell_type": "code",
   "execution_count": null,
   "metadata": {},
   "outputs": [],
   "source": [
    "model.fit(x_train,x_label,validation_data=(y_test,y_label),epochs=20,batch_size=19,shuffle=True,callbacks=[TensorBoard(log_dir='/tmp/gesture_to_text')])"
   ]
  },
  {
   "cell_type": "code",
   "execution_count": 116,
   "metadata": {},
   "outputs": [
    {
     "name": "stdout",
     "output_type": "stream",
     "text": [
      "Epoch 1/2\n",
      "1445/1445 [==============================] - 45s - loss: 0.1134 - acc: 0.9620 - val_loss: 0.0052 - val_acc: 0.9990\n",
      "Epoch 2/2\n",
      "1445/1445 [==============================] - 45s - loss: 0.1149 - acc: 0.9623 - val_loss: 0.0043 - val_acc: 0.9990\n"
     ]
    },
    {
     "data": {
      "text/plain": [
       "<keras.callbacks.History at 0x7f39a8255c50>"
      ]
     },
     "execution_count": 116,
     "metadata": {},
     "output_type": "execute_result"
    }
   ],
   "source": [
    "model.fit_generator(datagen.flow(x_train, x_label, batch_size=19),steps_per_epoch=len(x_train)/19,validation_data=(y_test,y_label),epochs=2000,callbacks=[TensorBoard(log_dir='/tmp/gesture_to_text3')])"
   ]
  },
  {
   "cell_type": "code",
   "execution_count": 124,
   "metadata": {},
   "outputs": [
    {
     "name": "stdout",
     "output_type": "stream",
     "text": [
      "7040/7172 [============================>.] - ETA: 0s"
     ]
    },
    {
     "data": {
      "text/plain": [
       "[0.0043019312369147042, 0.99902398215281651]"
      ]
     },
     "execution_count": 124,
     "metadata": {},
     "output_type": "execute_result"
    }
   ],
   "source": [
    "model.evaluate(y_test,y_label)"
   ]
  },
  {
   "cell_type": "code",
   "execution_count": null,
   "metadata": {},
   "outputs": [],
   "source": [
    "#img = cv2.imread('/Users/anubhavjain/Desktop/sign-language-mnist/outpy1.png',0)"
   ]
  },
  {
   "cell_type": "code",
   "execution_count": 150,
   "metadata": {},
   "outputs": [
    {
     "data": {
      "text/html": [
       "<div>\n",
       "<style scoped>\n",
       "    .dataframe tbody tr th:only-of-type {\n",
       "        vertical-align: middle;\n",
       "    }\n",
       "\n",
       "    .dataframe tbody tr th {\n",
       "        vertical-align: top;\n",
       "    }\n",
       "\n",
       "    .dataframe thead th {\n",
       "        text-align: right;\n",
       "    }\n",
       "</style>\n",
       "<table border=\"1\" class=\"dataframe\">\n",
       "  <thead>\n",
       "    <tr style=\"text-align: right;\">\n",
       "      <th></th>\n",
       "      <th>Unnamed: 0</th>\n",
       "      <th>0</th>\n",
       "      <th>1</th>\n",
       "      <th>2</th>\n",
       "      <th>3</th>\n",
       "      <th>4</th>\n",
       "      <th>5</th>\n",
       "      <th>6</th>\n",
       "      <th>7</th>\n",
       "      <th>8</th>\n",
       "      <th>...</th>\n",
       "      <th>18</th>\n",
       "      <th>19</th>\n",
       "      <th>20</th>\n",
       "      <th>21</th>\n",
       "      <th>22</th>\n",
       "      <th>23</th>\n",
       "      <th>24</th>\n",
       "      <th>25</th>\n",
       "      <th>26</th>\n",
       "      <th>27</th>\n",
       "    </tr>\n",
       "  </thead>\n",
       "  <tbody>\n",
       "    <tr>\n",
       "      <th>0</th>\n",
       "      <td>0</td>\n",
       "      <td>0.564706</td>\n",
       "      <td>0.596078</td>\n",
       "      <td>0.607843</td>\n",
       "      <td>0.619608</td>\n",
       "      <td>0.619608</td>\n",
       "      <td>0.639216</td>\n",
       "      <td>0.639216</td>\n",
       "      <td>0.666667</td>\n",
       "      <td>0.666667</td>\n",
       "      <td>...</td>\n",
       "      <td>0.741176</td>\n",
       "      <td>0.745098</td>\n",
       "      <td>0.749020</td>\n",
       "      <td>0.760784</td>\n",
       "      <td>0.772549</td>\n",
       "      <td>0.788235</td>\n",
       "      <td>0.792157</td>\n",
       "      <td>0.796078</td>\n",
       "      <td>0.800000</td>\n",
       "      <td>0.760784</td>\n",
       "    </tr>\n",
       "    <tr>\n",
       "      <th>1</th>\n",
       "      <td>1</td>\n",
       "      <td>0.596078</td>\n",
       "      <td>0.631373</td>\n",
       "      <td>0.635294</td>\n",
       "      <td>0.658824</td>\n",
       "      <td>0.666667</td>\n",
       "      <td>0.674510</td>\n",
       "      <td>0.682353</td>\n",
       "      <td>0.698039</td>\n",
       "      <td>0.694118</td>\n",
       "      <td>...</td>\n",
       "      <td>0.788235</td>\n",
       "      <td>0.792157</td>\n",
       "      <td>0.792157</td>\n",
       "      <td>0.803922</td>\n",
       "      <td>0.819608</td>\n",
       "      <td>0.835294</td>\n",
       "      <td>0.792157</td>\n",
       "      <td>0.800000</td>\n",
       "      <td>0.862745</td>\n",
       "      <td>0.878431</td>\n",
       "    </tr>\n",
       "    <tr>\n",
       "      <th>2</th>\n",
       "      <td>2</td>\n",
       "      <td>0.588235</td>\n",
       "      <td>0.627451</td>\n",
       "      <td>0.635294</td>\n",
       "      <td>0.639216</td>\n",
       "      <td>0.662745</td>\n",
       "      <td>0.666667</td>\n",
       "      <td>0.682353</td>\n",
       "      <td>0.694118</td>\n",
       "      <td>0.694118</td>\n",
       "      <td>...</td>\n",
       "      <td>0.792157</td>\n",
       "      <td>0.788235</td>\n",
       "      <td>0.788235</td>\n",
       "      <td>0.800000</td>\n",
       "      <td>0.819608</td>\n",
       "      <td>0.827451</td>\n",
       "      <td>0.839216</td>\n",
       "      <td>0.854902</td>\n",
       "      <td>0.862745</td>\n",
       "      <td>0.878431</td>\n",
       "    </tr>\n",
       "    <tr>\n",
       "      <th>3</th>\n",
       "      <td>3</td>\n",
       "      <td>0.584314</td>\n",
       "      <td>0.627451</td>\n",
       "      <td>0.631373</td>\n",
       "      <td>0.650980</td>\n",
       "      <td>0.654902</td>\n",
       "      <td>0.666667</td>\n",
       "      <td>0.670588</td>\n",
       "      <td>0.701961</td>\n",
       "      <td>0.698039</td>\n",
       "      <td>...</td>\n",
       "      <td>0.788235</td>\n",
       "      <td>0.780392</td>\n",
       "      <td>0.788235</td>\n",
       "      <td>0.803922</td>\n",
       "      <td>0.807843</td>\n",
       "      <td>0.827451</td>\n",
       "      <td>0.831373</td>\n",
       "      <td>0.854902</td>\n",
       "      <td>0.862745</td>\n",
       "      <td>0.866667</td>\n",
       "    </tr>\n",
       "    <tr>\n",
       "      <th>4</th>\n",
       "      <td>4</td>\n",
       "      <td>0.576471</td>\n",
       "      <td>0.619608</td>\n",
       "      <td>0.639216</td>\n",
       "      <td>0.650980</td>\n",
       "      <td>0.647059</td>\n",
       "      <td>0.666667</td>\n",
       "      <td>0.686275</td>\n",
       "      <td>0.701961</td>\n",
       "      <td>0.698039</td>\n",
       "      <td>...</td>\n",
       "      <td>0.784314</td>\n",
       "      <td>0.780392</td>\n",
       "      <td>0.780392</td>\n",
       "      <td>0.807843</td>\n",
       "      <td>0.815686</td>\n",
       "      <td>0.827451</td>\n",
       "      <td>0.843137</td>\n",
       "      <td>0.847059</td>\n",
       "      <td>0.862745</td>\n",
       "      <td>0.874510</td>\n",
       "    </tr>\n",
       "  </tbody>\n",
       "</table>\n",
       "<p>5 rows × 29 columns</p>\n",
       "</div>"
      ],
      "text/plain": [
       "   Unnamed: 0         0         1         2         3         4         5  \\\n",
       "0           0  0.564706  0.596078  0.607843  0.619608  0.619608  0.639216   \n",
       "1           1  0.596078  0.631373  0.635294  0.658824  0.666667  0.674510   \n",
       "2           2  0.588235  0.627451  0.635294  0.639216  0.662745  0.666667   \n",
       "3           3  0.584314  0.627451  0.631373  0.650980  0.654902  0.666667   \n",
       "4           4  0.576471  0.619608  0.639216  0.650980  0.647059  0.666667   \n",
       "\n",
       "          6         7         8    ...           18        19        20  \\\n",
       "0  0.639216  0.666667  0.666667    ...     0.741176  0.745098  0.749020   \n",
       "1  0.682353  0.698039  0.694118    ...     0.788235  0.792157  0.792157   \n",
       "2  0.682353  0.694118  0.694118    ...     0.792157  0.788235  0.788235   \n",
       "3  0.670588  0.701961  0.698039    ...     0.788235  0.780392  0.788235   \n",
       "4  0.686275  0.701961  0.698039    ...     0.784314  0.780392  0.780392   \n",
       "\n",
       "         21        22        23        24        25        26        27  \n",
       "0  0.760784  0.772549  0.788235  0.792157  0.796078  0.800000  0.760784  \n",
       "1  0.803922  0.819608  0.835294  0.792157  0.800000  0.862745  0.878431  \n",
       "2  0.800000  0.819608  0.827451  0.839216  0.854902  0.862745  0.878431  \n",
       "3  0.803922  0.807843  0.827451  0.831373  0.854902  0.862745  0.866667  \n",
       "4  0.807843  0.815686  0.827451  0.843137  0.847059  0.862745  0.874510  \n",
       "\n",
       "[5 rows x 29 columns]"
      ]
     },
     "execution_count": 150,
     "metadata": {},
     "output_type": "execute_result"
    }
   ],
   "source": [
    "\n",
    "body = client_439f896e860a45e8ab03c3254fac296b.get_object(Bucket='courseraproject-donotdelete-pr-b3bunbszncvhtk',Key='outpy3.csv')['Body']\n",
    "# add missing __iter__ method, so pandas accepts body as file-like object\n",
    "if not hasattr(body, \"__iter__\"): body.__iter__ = types.MethodType( __iter__, body )\n",
    "\n",
    "df_data_13 = pd.read_csv(body)\n",
    "df_data_13.head()\n",
    "\n"
   ]
  },
  {
   "cell_type": "code",
   "execution_count": 151,
   "metadata": {},
   "outputs": [
    {
     "data": {
      "text/plain": [
       "(array([[ 0.56470588,  0.59607843,  0.60784314,  0.61960784,  0.61960784,\n",
       "          0.63921569,  0.63921569,  0.66666667,  0.66666667,  0.67843137,\n",
       "          0.68627451,  0.69803922,  0.70196078,  0.71372549,  0.72156863,\n",
       "          0.7372549 ,  0.7372549 ,  0.7372549 ,  0.74117647,  0.74509804,\n",
       "          0.74901961,  0.76078431,  0.77254902,  0.78823529,  0.79215686,\n",
       "          0.79607843,  0.8       ,  0.76078431],\n",
       "        [ 0.59607843,  0.63137255,  0.63529412,  0.65882353,  0.66666667,\n",
       "          0.6745098 ,  0.68235294,  0.69803922,  0.69411765,  0.71764706,\n",
       "          0.71764706,  0.73333333,  0.74117647,  0.74509804,  0.76078431,\n",
       "          0.76862745,  0.77254902,  0.77647059,  0.78823529,  0.79215686,\n",
       "          0.79215686,  0.80392157,  0.81960784,  0.83529412,  0.79215686,\n",
       "          0.8       ,  0.8627451 ,  0.87843137],\n",
       "        [ 0.58823529,  0.62745098,  0.63529412,  0.63921569,  0.6627451 ,\n",
       "          0.66666667,  0.68235294,  0.69411765,  0.69411765,  0.72156863,\n",
       "          0.73333333,  0.7254902 ,  0.74117647,  0.74901961,  0.74901961,\n",
       "          0.76862745,  0.77254902,  0.78431373,  0.79215686,  0.78823529,\n",
       "          0.78823529,  0.8       ,  0.81960784,  0.82745098,  0.83921569,\n",
       "          0.85490196,  0.8627451 ,  0.87843137],\n",
       "        [ 0.58431373,  0.62745098,  0.63137255,  0.65098039,  0.65490196,\n",
       "          0.66666667,  0.67058824,  0.70196078,  0.69803922,  0.71764706,\n",
       "          0.72941176,  0.73333333,  0.73333333,  0.74901961,  0.74901961,\n",
       "          0.76470588,  0.76862745,  0.77647059,  0.78823529,  0.78039216,\n",
       "          0.78823529,  0.80392157,  0.80784314,  0.82745098,  0.83137255,\n",
       "          0.85490196,  0.8627451 ,  0.86666667],\n",
       "        [ 0.57647059,  0.61960784,  0.63921569,  0.65098039,  0.64705882,\n",
       "          0.66666667,  0.68627451,  0.70196078,  0.69803922,  0.71372549,\n",
       "          0.72156863,  0.72941176,  0.73333333,  0.75294118,  0.76078431,\n",
       "          0.76470588,  0.76862745,  0.77647059,  0.78431373,  0.78039216,\n",
       "          0.78039216,  0.80784314,  0.81568627,  0.82745098,  0.84313725,\n",
       "          0.84705882,  0.8627451 ,  0.8745098 ],\n",
       "        [ 0.59215686,  0.62352941,  0.63529412,  0.64313725,  0.6627451 ,\n",
       "          0.67058824,  0.68235294,  0.69803922,  0.69803922,  0.71764706,\n",
       "          0.72156863,  0.7372549 ,  0.7372549 ,  0.74901961,  0.75294118,\n",
       "          0.74901961,  0.76078431,  0.76078431,  0.77254902,  0.78039216,\n",
       "          0.78431373,  0.8       ,  0.81568627,  0.82745098,  0.84313725,\n",
       "          0.85098039,  0.86666667,  0.87058824],\n",
       "        [ 0.59215686,  0.62745098,  0.63921569,  0.64705882,  0.65882353,\n",
       "          0.6745098 ,  0.68627451,  0.69411765,  0.70196078,  0.7254902 ,\n",
       "          0.7254902 ,  0.73333333,  0.72941176,  0.74509804,  0.75686275,\n",
       "          0.76078431,  0.76862745,  0.76862745,  0.78039216,  0.77647059,\n",
       "          0.78431373,  0.80392157,  0.81568627,  0.82745098,  0.84313725,\n",
       "          0.84705882,  0.86666667,  0.8745098 ],\n",
       "        [ 0.59215686,  0.62352941,  0.63921569,  0.65098039,  0.65490196,\n",
       "          0.66666667,  0.68627451,  0.69411765,  0.70196078,  0.71372549,\n",
       "          0.72156863,  0.73333333,  0.7372549 ,  0.74901961,  0.75686275,\n",
       "          0.75686275,  0.76078431,  0.76862745,  0.78431373,  0.78039216,\n",
       "          0.78039216,  0.78823529,  0.81568627,  0.82745098,  0.84313725,\n",
       "          0.84705882,  0.86666667,  0.87843137],\n",
       "        [ 0.58823529,  0.62745098,  0.64313725,  0.64313725,  0.6627451 ,\n",
       "          0.6745098 ,  0.69019608,  0.68627451,  0.70588235,  0.71764706,\n",
       "          0.72156863,  0.72941176,  0.7372549 ,  0.74901961,  0.75686275,\n",
       "          0.75686275,  0.75686275,  0.76862745,  0.77647059,  0.77254902,\n",
       "          0.78431373,  0.79607843,  0.81568627,  0.82352941,  0.83529412,\n",
       "          0.85490196,  0.8627451 ,  0.87058824],\n",
       "        [ 0.59215686,  0.62745098,  0.63529412,  0.64313725,  0.65882353,\n",
       "          0.66666667,  0.67843137,  0.69803922,  0.70588235,  0.70980392,\n",
       "          0.71372549,  0.71764706,  0.73333333,  0.74901961,  0.75294118,\n",
       "          0.75686275,  0.76078431,  0.76862745,  0.77647059,  0.77647059,\n",
       "          0.78823529,  0.79215686,  0.81176471,  0.82745098,  0.83529412,\n",
       "          0.84705882,  0.87058824,  0.8745098 ],\n",
       "        [ 0.59215686,  0.63137255,  0.63529412,  0.64705882,  0.66666667,\n",
       "          0.66666667,  0.68627451,  0.69019608,  0.70196078,  0.71764706,\n",
       "          0.72156863,  0.72156863,  0.74117647,  0.74509804,  0.74901961,\n",
       "          0.74901961,  0.75294118,  0.76862745,  0.78039216,  0.78039216,\n",
       "          0.78823529,  0.79215686,  0.81176471,  0.82745098,  0.83529412,\n",
       "          0.85098039,  0.86666667,  0.8745098 ],\n",
       "        [ 0.59215686,  0.62745098,  0.64313725,  0.64705882,  0.6627451 ,\n",
       "          0.6745098 ,  0.67843137,  0.69019608,  0.70196078,  0.71764706,\n",
       "          0.71764706,  0.72941176,  0.73333333,  0.7372549 ,  0.7372549 ,\n",
       "          0.74117647,  0.72156863,  0.73333333,  0.73333333,  0.77647059,\n",
       "          0.78823529,  0.79607843,  0.81176471,  0.82745098,  0.83921569,\n",
       "          0.85490196,  0.86666667,  0.87058824],\n",
       "        [ 0.58431373,  0.62745098,  0.63921569,  0.65882353,  0.66666667,\n",
       "          0.67843137,  0.68235294,  0.69019608,  0.70588235,  0.70980392,\n",
       "          0.70588235,  0.72156863,  0.70196078,  0.63921569,  0.55686275,\n",
       "          0.45490196,  0.49019608,  0.55294118,  0.49411765,  0.76470588,\n",
       "          0.79215686,  0.8       ,  0.81568627,  0.82352941,  0.83529412,\n",
       "          0.85490196,  0.86666667,  0.8745098 ],\n",
       "        [ 0.58039216,  0.62352941,  0.64313725,  0.65098039,  0.6745098 ,\n",
       "          0.67843137,  0.67843137,  0.69411765,  0.68627451,  0.61568627,\n",
       "          0.55294118,  0.54117647,  0.50588235,  0.39215686,  0.31764706,\n",
       "          0.2745098 ,  0.26666667,  0.34117647,  0.50980392,  0.77647059,\n",
       "          0.79215686,  0.80784314,  0.81568627,  0.83921569,  0.85490196,\n",
       "          0.85882353,  0.87843137,  0.89019608],\n",
       "        [ 0.58823529,  0.63137255,  0.64705882,  0.65882353,  0.6627451 ,\n",
       "          0.66666667,  0.64705882,  0.58823529,  0.48627451,  0.37647059,\n",
       "          0.35686275,  0.36470588,  0.32941176,  0.24705882,  0.21176471,\n",
       "          0.24313725,  0.44313725,  0.67058824,  0.74901961,  0.76470588,\n",
       "          0.78823529,  0.81960784,  0.83137255,  0.85098039,  0.85490196,\n",
       "          0.86666667,  0.87843137,  0.88627451],\n",
       "        [ 0.58823529,  0.63921569,  0.64705882,  0.64313725,  0.63529412,\n",
       "          0.60784314,  0.56078431,  0.47058824,  0.35686275,  0.29803922,\n",
       "          0.24313725,  0.25098039,  0.25098039,  0.38823529,  0.5254902 ,\n",
       "          0.59607843,  0.52941176,  0.45882353,  0.36862745,  0.48235294,\n",
       "          0.54117647,  0.77254902,  0.83529412,  0.84705882,  0.85490196,\n",
       "          0.87058824,  0.88235294,  0.88235294],\n",
       "        [ 0.58823529,  0.6       ,  0.57647059,  0.56078431,  0.51372549,\n",
       "          0.44313725,  0.36470588,  0.30196078,  0.23137255,  0.2745098 ,\n",
       "          0.38823529,  0.4745098 ,  0.54901961,  0.54509804,  0.48235294,\n",
       "          0.36862745,  0.31764706,  0.29019608,  0.27843137,  0.36470588,\n",
       "          0.40392157,  0.69803922,  0.83529412,  0.84313725,  0.85882353,\n",
       "          0.87058824,  0.8745098 ,  0.88235294],\n",
       "        [ 0.56078431,  0.48627451,  0.4       ,  0.38039216,  0.31764706,\n",
       "          0.26666667,  0.26666667,  0.37254902,  0.4627451 ,  0.46666667,\n",
       "          0.39215686,  0.36470588,  0.37254902,  0.38431373,  0.34117647,\n",
       "          0.29019608,  0.23137255,  0.22352941,  0.28235294,  0.45882353,\n",
       "          0.64705882,  0.81176471,  0.83921569,  0.84705882,  0.85882353,\n",
       "          0.8745098 ,  0.88235294,  0.89019608],\n",
       "        [ 0.48235294,  0.38823529,  0.36862745,  0.32941176,  0.28627451,\n",
       "          0.41176471,  0.55686275,  0.5254902 ,  0.43137255,  0.34509804,\n",
       "          0.27058824,  0.26666667,  0.29411765,  0.30196078,  0.30588235,\n",
       "          0.41176471,  0.54117647,  0.67843137,  0.76862745,  0.79215686,\n",
       "          0.80784314,  0.80784314,  0.82745098,  0.84705882,  0.85490196,\n",
       "          0.8627451 ,  0.87843137,  0.88627451],\n",
       "        [ 0.47058824,  0.50196078,  0.54901961,  0.56862745,  0.56862745,\n",
       "          0.49803922,  0.42745098,  0.38039216,  0.29803922,  0.23921569,\n",
       "          0.18431373,  0.22745098,  0.36470588,  0.62352941,  0.7372549 ,\n",
       "          0.75686275,  0.76078431,  0.77647059,  0.78431373,  0.8       ,\n",
       "          0.80784314,  0.81568627,  0.83529412,  0.85098039,  0.85098039,\n",
       "          0.85490196,  0.87058824,  0.8745098 ],\n",
       "        [ 0.49411765,  0.54901961,  0.54901961,  0.45882353,  0.36862745,\n",
       "          0.27058824,  0.23921569,  0.23137255,  0.20392157,  0.19215686,\n",
       "          0.21176471,  0.27843137,  0.42352941,  0.7372549 ,  0.75294118,\n",
       "          0.75686275,  0.76470588,  0.76862745,  0.78431373,  0.78823529,\n",
       "          0.80784314,  0.81176471,  0.82352941,  0.83529412,  0.84705882,\n",
       "          0.85882353,  0.85882353,  0.85882353],\n",
       "        [ 0.49803922,  0.42352941,  0.30980392,  0.25882353,  0.20392157,\n",
       "          0.18823529,  0.17254902,  0.14509804,  0.18823529,  0.4745098 ,\n",
       "          0.20392157,  0.26666667,  0.36470588,  0.65882353,  0.75686275,\n",
       "          0.76078431,  0.76078431,  0.76862745,  0.78431373,  0.78039216,\n",
       "          0.8       ,  0.81176471,  0.82352941,  0.83137255,  0.84313725,\n",
       "          0.85098039,  0.85882353,  0.86666667],\n",
       "        [ 0.37647059,  0.23921569,  0.21960784,  0.21568627,  0.2       ,\n",
       "          0.16862745,  0.14117647,  0.16078431,  0.21568627,  0.22745098,\n",
       "          0.19607843,  0.20392157,  0.25098039,  0.45490196,  0.74901961,\n",
       "          0.75294118,  0.76078431,  0.76862745,  0.77647059,  0.79215686,\n",
       "          0.79607843,  0.81568627,  0.81568627,  0.83137255,  0.83137255,\n",
       "          0.83137255,  0.85098039,  0.84705882],\n",
       "        [ 0.30196078,  0.25098039,  0.2627451 ,  0.2627451 ,  0.26666667,\n",
       "          0.2745098 ,  0.2745098 ,  0.27058824,  0.25490196,  0.25490196,\n",
       "          0.24313725,  0.21568627,  0.26666667,  0.67843137,  0.7372549 ,\n",
       "          0.74117647,  0.74117647,  0.7372549 ,  0.75294118,  0.76470588,\n",
       "          0.78431373,  0.78823529,  0.79607843,  0.81568627,  0.82352941,\n",
       "          0.83921569,  0.83137255,  0.84313725],\n",
       "        [ 0.49803922,  0.50196078,  0.40784314,  0.34117647,  0.30980392,\n",
       "          0.29019608,  0.27058824,  0.25490196,  0.25490196,  0.25098039,\n",
       "          0.25098039,  0.22352941,  0.32941176,  0.71764706,  0.7254902 ,\n",
       "          0.72941176,  0.74117647,  0.7372549 ,  0.74901961,  0.76078431,\n",
       "          0.78039216,  0.78823529,  0.80392157,  0.81176471,  0.81960784,\n",
       "          0.83529412,  0.83137255,  0.83137255],\n",
       "        [ 0.49019608,  0.38431373,  0.30980392,  0.28235294,  0.2745098 ,\n",
       "          0.25098039,  0.23137255,  0.21176471,  0.19607843,  0.16862745,\n",
       "          0.13333333,  0.13333333,  0.28235294,  0.53333333,  0.71764706,\n",
       "          0.72941176,  0.7372549 ,  0.74117647,  0.75294118,  0.76078431,\n",
       "          0.77647059,  0.78431373,  0.81176471,  0.81176471,  0.82352941,\n",
       "          0.82745098,  0.83529412,  0.82352941],\n",
       "        [ 0.38039216,  0.25882353,  0.24705882,  0.24705882,  0.22745098,\n",
       "          0.18039216,  0.11764706,  0.10196078,  0.14509804,  0.16862745,\n",
       "          0.18823529,  0.18431373,  0.23921569,  0.40392157,  0.71372549,\n",
       "          0.72156863,  0.7372549 ,  0.72941176,  0.74901961,  0.76862745,\n",
       "          0.78039216,  0.78823529,  0.79607843,  0.80784314,  0.81176471,\n",
       "          0.81960784,  0.81960784,  0.81960784],\n",
       "        [ 0.35294118,  0.21960784,  0.19607843,  0.21960784,  0.22352941,\n",
       "          0.20784314,  0.22352941,  0.23529412,  0.25490196,  0.23137255,\n",
       "          0.23529412,  0.21176471,  0.29019608,  0.62745098,  0.70980392,\n",
       "          0.71764706,  0.71764706,  0.73333333,  0.74117647,  0.76078431,\n",
       "          0.77254902,  0.78431373,  0.78039216,  0.8       ,  0.80392157,\n",
       "          0.8       ,  0.8       ,  0.81568627]]), (28, 28))"
      ]
     },
     "execution_count": 151,
     "metadata": {},
     "output_type": "execute_result"
    }
   ],
   "source": [
    "pic_array = np.empty((28, 28))\n",
    "for i in range(28):\n",
    "    for j in range(1,29):\n",
    "        pic_array[i][j-1] = df_data_13.loc[i][j]\n",
    "pic_array,pic_array.shape"
   ]
  },
  {
   "cell_type": "code",
   "execution_count": null,
   "metadata": {},
   "outputs": [],
   "source": [
    "#pic_array = scalar.transform(pic_array)"
   ]
  },
  {
   "cell_type": "code",
   "execution_count": 152,
   "metadata": {},
   "outputs": [
    {
     "data": {
      "text/plain": [
       "(1, 28, 28, 1)"
      ]
     },
     "execution_count": 152,
     "metadata": {},
     "output_type": "execute_result"
    }
   ],
   "source": [
    "pic_array = pic_array.reshape(1,28,28,1)\n",
    "pic_array.shape\n",
    "#pic_array[0]"
   ]
  },
  {
   "cell_type": "code",
   "execution_count": 153,
   "metadata": {},
   "outputs": [
    {
     "data": {
      "text/plain": [
       "array([  1.71651837e-09,   4.71726693e-08,   4.39606287e-04,\n",
       "         1.58680558e-09,   1.26753008e-08,   1.63506456e-06,\n",
       "         5.92637625e-05,   9.97822642e-01,   2.27873382e-08,\n",
       "         1.79007437e-14,   1.11838122e-10,   9.89485756e-08,\n",
       "         1.07898501e-09,   3.87909843e-11,   5.87951945e-06,\n",
       "         3.22529668e-05,   1.58821081e-03,   6.00714825e-11,\n",
       "         5.53618748e-11,   3.70835587e-05,   5.68543934e-10,\n",
       "         6.37273220e-11,   2.09206008e-09,   1.32571085e-05,\n",
       "         4.15557970e-08], dtype=float32)"
      ]
     },
     "execution_count": 153,
     "metadata": {},
     "output_type": "execute_result"
    }
   ],
   "source": [
    "t = model.predict(pic_array)\n",
    "y = np.nonzero(t == max(t[0]))\n",
    "t[0]"
   ]
  },
  {
   "cell_type": "code",
   "execution_count": 154,
   "metadata": {},
   "outputs": [
    {
     "data": {
      "text/plain": [
       "7"
      ]
     },
     "execution_count": 154,
     "metadata": {},
     "output_type": "execute_result"
    }
   ],
   "source": [
    "y[1][0]"
   ]
  },
  {
   "cell_type": "code",
   "execution_count": 155,
   "metadata": {},
   "outputs": [
    {
     "data": {
      "text/plain": [
       "'H'"
      ]
     },
     "execution_count": 155,
     "metadata": {},
     "output_type": "execute_result"
    }
   ],
   "source": [
    "chr(y[1][0] + 65)"
   ]
  },
  {
   "cell_type": "code",
   "execution_count": null,
   "metadata": {},
   "outputs": [],
   "source": [
    "t_before=time.time()\n",
    "scores=model.evaluate(y_test,y_label,verbose=0)\n",
    "t_after=time.time()"
   ]
  },
  {
   "cell_type": "code",
   "execution_count": null,
   "metadata": {},
   "outputs": [],
   "source": [
    "scores[1]"
   ]
  },
  {
   "cell_type": "code",
   "execution_count": null,
   "metadata": {},
   "outputs": [],
   "source": [
    "(t_after-t_before)"
   ]
  },
  {
   "cell_type": "code",
   "execution_count": 57,
   "metadata": {},
   "outputs": [],
   "source": [
    "model.save('gesture_to_text.h5')"
   ]
  }
 ],
 "metadata": {
  "kernelspec": {
   "display_name": "Python 3.5 with Spark 2.1",
   "language": "python",
   "name": "python3-spark21"
  },
  "language_info": {
   "codemirror_mode": {
    "name": "ipython",
    "version": 3
   },
   "file_extension": ".py",
   "mimetype": "text/x-python",
   "name": "python",
   "nbconvert_exporter": "python",
   "pygments_lexer": "ipython3",
   "version": "3.5.4"
  },
  "widgets": {
   "application/vnd.jupyter.widget-state+json": {
    "state": {},
    "version_major": 2,
    "version_minor": 0
   }
  }
 },
 "nbformat": 4,
 "nbformat_minor": 2
}
